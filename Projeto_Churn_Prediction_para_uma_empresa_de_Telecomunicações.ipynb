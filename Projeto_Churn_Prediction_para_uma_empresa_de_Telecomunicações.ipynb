{
  "nbformat": 4,
  "nbformat_minor": 0,
  "metadata": {
    "colab": {
      "name": "Projeto - Churn Prediction para uma empresa de Telecomunicações.ipynb",
      "provenance": [],
      "collapsed_sections": [],
      "include_colab_link": true
    },
    "kernelspec": {
      "name": "python3",
      "display_name": "Python 3"
    }
  },
  "cells": [
    {
      "cell_type": "markdown",
      "metadata": {
        "id": "view-in-github",
        "colab_type": "text"
      },
      "source": [
        "<a href=\"https://colab.research.google.com/github/virb30/churn-prediction/blob/main/Projeto_Churn_Prediction_para_uma_empresa_de_Telecomunica%C3%A7%C3%B5es.ipynb\" target=\"_parent\"><img src=\"https://colab.research.google.com/assets/colab-badge.svg\" alt=\"Open In Colab\"/></a>"
      ]
    },
    {
      "cell_type": "markdown",
      "metadata": {
        "id": "sC2BFMOKN1M7"
      },
      "source": [
        "---\n",
        "<img alt=\"Colaboratory logo\" width=\"15%\" src=\"https://raw.githubusercontent.com/carlosfab/escola-data-science/master/img/novo_logo_bg_claro.png\">\n",
        "\n",
        "#### **Data Science na Prática 3.0**\n",
        "*by [sigmoidal.ai](https://sigmoidal.ai)*  \n",
        "\n",
        "---"
      ]
    },
    {
      "cell_type": "markdown",
      "metadata": {
        "id": "IR56trFcPcC1"
      },
      "source": [
        "# Churn Prediction\n",
        "\n",
        "*Churn rate*, ou simplesmente *churn*, representa a taxa de evasão da sua base de clientes. Em serviços como Spotify ou Netflix, ela representaria a taxa de cancelamento de assinaturas.\n",
        "\n",
        "<p align=center>\n",
        "<img src=\"https://raw.githubusercontent.com/carlosfab/dsnp2/master/img/churnrate.jpg\" width=\"60%\"></p>\n",
        "\n",
        "Ela é de extrema importância para a administração e sua análise ao longo do tempo pode mostrar que existe algum problema que deve ser atacado. \n",
        "\n",
        "*Churn* também pode ser usado para identificar potenciais cancelamentos, com um tempo de antecedência, e promover ações direcionadas para tentar reter tais clientes. Essa métrica deve receber atenção pelo fato de que o Custo de Aquisição de Cliente (CAC) é normalmente mais alto que o custo para mantê-los. Ou seja, um alto valor para o *churn rate* é o que não desejamos. O *churn rate* de determinado período pode ser calculado pela equação:\n",
        "\n",
        "$$ \\frac{nº\\ clientes\\ que\\ cancelaram}{nº\\ clientes\\ no\\ início} $$\n",
        "\n",
        "### Churn de Receita ou MRR Churn\n",
        "Enquanto o *churn rate* representa a taxa de cancelamentos em um período pré-determinado, o churn de receita (ou *Monthly Recurring Revenue* - MRR Churn) representa o total de receita perdida em razão desses cancelamentos. "
      ]
    },
    {
      "cell_type": "markdown",
      "metadata": {
        "id": "0HVmpIxQWT4Y"
      },
      "source": [
        "## Aquisição dos Dados\n",
        "\n",
        "Os dados utilizados neste projeto foram originalmente disponibilizados na [plataforma de ensino da IBM Developer](https://developer.ibm.com/technologies/data-science/patterns/predict-customer-churn-using-watson-studio-and-jupyter-notebooks/#), e tratam de um problema típico de uma companhia de telecomunicações. O *dataset* completo pode ser encontrado [neste link](https://raw.githubusercontent.com/carlosfab/dsnp2/master/datasets/WA_Fn-UseC_-Telco-Customer-Churn.csv).\n",
        "\n",
        "Apesar de não haver informações explícitas disponíves, os nomes das colunas permitem um entendimento a respeito do problema."
      ]
    },
    {
      "cell_type": "code",
      "metadata": {
        "id": "oQ4bNy7udtEE",
        "colab": {
          "base_uri": "https://localhost:8080/",
          "height": 204
        },
        "outputId": "44b562da-f121-4243-f6e0-cbbb394df527"
      },
      "source": [
        "# importar os pacotes necessários\n",
        "import pandas as pd\n",
        "import matplotlib.pyplot as plt\n",
        "\n",
        "%matplotlib inline\n",
        "\n",
        "# importar os dados\n",
        "DATA_PATH = \"https://raw.githubusercontent.com/carlosfab/dsnp2/master/datasets/WA_Fn-UseC_-Telco-Customer-Churn.csv\"\n",
        "df = pd.read_csv(DATA_PATH)\n",
        "\n",
        "# ver as 5 primeiras entradas\n",
        "df.head()"
      ],
      "execution_count": 90,
      "outputs": [
        {
          "output_type": "execute_result",
          "data": {
            "text/html": [
              "<div>\n",
              "<style scoped>\n",
              "    .dataframe tbody tr th:only-of-type {\n",
              "        vertical-align: middle;\n",
              "    }\n",
              "\n",
              "    .dataframe tbody tr th {\n",
              "        vertical-align: top;\n",
              "    }\n",
              "\n",
              "    .dataframe thead th {\n",
              "        text-align: right;\n",
              "    }\n",
              "</style>\n",
              "<table border=\"1\" class=\"dataframe\">\n",
              "  <thead>\n",
              "    <tr style=\"text-align: right;\">\n",
              "      <th></th>\n",
              "      <th>customerID</th>\n",
              "      <th>gender</th>\n",
              "      <th>SeniorCitizen</th>\n",
              "      <th>Partner</th>\n",
              "      <th>Dependents</th>\n",
              "      <th>tenure</th>\n",
              "      <th>PhoneService</th>\n",
              "      <th>MultipleLines</th>\n",
              "      <th>InternetService</th>\n",
              "      <th>OnlineSecurity</th>\n",
              "      <th>OnlineBackup</th>\n",
              "      <th>DeviceProtection</th>\n",
              "      <th>TechSupport</th>\n",
              "      <th>StreamingTV</th>\n",
              "      <th>StreamingMovies</th>\n",
              "      <th>Contract</th>\n",
              "      <th>PaperlessBilling</th>\n",
              "      <th>PaymentMethod</th>\n",
              "      <th>MonthlyCharges</th>\n",
              "      <th>TotalCharges</th>\n",
              "      <th>Churn</th>\n",
              "    </tr>\n",
              "  </thead>\n",
              "  <tbody>\n",
              "    <tr>\n",
              "      <th>0</th>\n",
              "      <td>7590-VHVEG</td>\n",
              "      <td>Female</td>\n",
              "      <td>0</td>\n",
              "      <td>Yes</td>\n",
              "      <td>No</td>\n",
              "      <td>1</td>\n",
              "      <td>No</td>\n",
              "      <td>No phone service</td>\n",
              "      <td>DSL</td>\n",
              "      <td>No</td>\n",
              "      <td>Yes</td>\n",
              "      <td>No</td>\n",
              "      <td>No</td>\n",
              "      <td>No</td>\n",
              "      <td>No</td>\n",
              "      <td>Month-to-month</td>\n",
              "      <td>Yes</td>\n",
              "      <td>Electronic check</td>\n",
              "      <td>29.85</td>\n",
              "      <td>29.85</td>\n",
              "      <td>No</td>\n",
              "    </tr>\n",
              "    <tr>\n",
              "      <th>1</th>\n",
              "      <td>5575-GNVDE</td>\n",
              "      <td>Male</td>\n",
              "      <td>0</td>\n",
              "      <td>No</td>\n",
              "      <td>No</td>\n",
              "      <td>34</td>\n",
              "      <td>Yes</td>\n",
              "      <td>No</td>\n",
              "      <td>DSL</td>\n",
              "      <td>Yes</td>\n",
              "      <td>No</td>\n",
              "      <td>Yes</td>\n",
              "      <td>No</td>\n",
              "      <td>No</td>\n",
              "      <td>No</td>\n",
              "      <td>One year</td>\n",
              "      <td>No</td>\n",
              "      <td>Mailed check</td>\n",
              "      <td>56.95</td>\n",
              "      <td>1889.5</td>\n",
              "      <td>No</td>\n",
              "    </tr>\n",
              "    <tr>\n",
              "      <th>2</th>\n",
              "      <td>3668-QPYBK</td>\n",
              "      <td>Male</td>\n",
              "      <td>0</td>\n",
              "      <td>No</td>\n",
              "      <td>No</td>\n",
              "      <td>2</td>\n",
              "      <td>Yes</td>\n",
              "      <td>No</td>\n",
              "      <td>DSL</td>\n",
              "      <td>Yes</td>\n",
              "      <td>Yes</td>\n",
              "      <td>No</td>\n",
              "      <td>No</td>\n",
              "      <td>No</td>\n",
              "      <td>No</td>\n",
              "      <td>Month-to-month</td>\n",
              "      <td>Yes</td>\n",
              "      <td>Mailed check</td>\n",
              "      <td>53.85</td>\n",
              "      <td>108.15</td>\n",
              "      <td>Yes</td>\n",
              "    </tr>\n",
              "    <tr>\n",
              "      <th>3</th>\n",
              "      <td>7795-CFOCW</td>\n",
              "      <td>Male</td>\n",
              "      <td>0</td>\n",
              "      <td>No</td>\n",
              "      <td>No</td>\n",
              "      <td>45</td>\n",
              "      <td>No</td>\n",
              "      <td>No phone service</td>\n",
              "      <td>DSL</td>\n",
              "      <td>Yes</td>\n",
              "      <td>No</td>\n",
              "      <td>Yes</td>\n",
              "      <td>Yes</td>\n",
              "      <td>No</td>\n",
              "      <td>No</td>\n",
              "      <td>One year</td>\n",
              "      <td>No</td>\n",
              "      <td>Bank transfer (automatic)</td>\n",
              "      <td>42.30</td>\n",
              "      <td>1840.75</td>\n",
              "      <td>No</td>\n",
              "    </tr>\n",
              "    <tr>\n",
              "      <th>4</th>\n",
              "      <td>9237-HQITU</td>\n",
              "      <td>Female</td>\n",
              "      <td>0</td>\n",
              "      <td>No</td>\n",
              "      <td>No</td>\n",
              "      <td>2</td>\n",
              "      <td>Yes</td>\n",
              "      <td>No</td>\n",
              "      <td>Fiber optic</td>\n",
              "      <td>No</td>\n",
              "      <td>No</td>\n",
              "      <td>No</td>\n",
              "      <td>No</td>\n",
              "      <td>No</td>\n",
              "      <td>No</td>\n",
              "      <td>Month-to-month</td>\n",
              "      <td>Yes</td>\n",
              "      <td>Electronic check</td>\n",
              "      <td>70.70</td>\n",
              "      <td>151.65</td>\n",
              "      <td>Yes</td>\n",
              "    </tr>\n",
              "  </tbody>\n",
              "</table>\n",
              "</div>"
            ],
            "text/plain": [
              "   customerID  gender  SeniorCitizen  ... MonthlyCharges TotalCharges  Churn\n",
              "0  7590-VHVEG  Female              0  ...          29.85        29.85     No\n",
              "1  5575-GNVDE    Male              0  ...          56.95       1889.5     No\n",
              "2  3668-QPYBK    Male              0  ...          53.85       108.15    Yes\n",
              "3  7795-CFOCW    Male              0  ...          42.30      1840.75     No\n",
              "4  9237-HQITU  Female              0  ...          70.70       151.65    Yes\n",
              "\n",
              "[5 rows x 21 columns]"
            ]
          },
          "metadata": {},
          "execution_count": 90
        }
      ]
    },
    {
      "cell_type": "markdown",
      "metadata": {
        "id": "37IDQoWelMR_"
      },
      "source": [
        "## Análise Exploratória\n",
        "\n",
        "Para tomarmos uma decisão sobre qual algoritmo vamos utilizar, quais serão as etapas de tratamento dos dados ou como iremos avaliar o desempenho do modelo, precisamos conhecer nossos dados. Vamos entender como estão compostas as variáveis:\n",
        "\n"
      ]
    },
    {
      "cell_type": "code",
      "metadata": {
        "colab": {
          "base_uri": "https://localhost:8080/"
        },
        "id": "lYG6122KtNDH",
        "outputId": "76f00645-6e29-43bf-8021-1d5202396617"
      },
      "source": [
        "df.info()"
      ],
      "execution_count": 91,
      "outputs": [
        {
          "output_type": "stream",
          "name": "stdout",
          "text": [
            "<class 'pandas.core.frame.DataFrame'>\n",
            "RangeIndex: 7043 entries, 0 to 7042\n",
            "Data columns (total 21 columns):\n",
            " #   Column            Non-Null Count  Dtype  \n",
            "---  ------            --------------  -----  \n",
            " 0   customerID        7043 non-null   object \n",
            " 1   gender            7043 non-null   object \n",
            " 2   SeniorCitizen     7043 non-null   int64  \n",
            " 3   Partner           7043 non-null   object \n",
            " 4   Dependents        7043 non-null   object \n",
            " 5   tenure            7043 non-null   int64  \n",
            " 6   PhoneService      7043 non-null   object \n",
            " 7   MultipleLines     7043 non-null   object \n",
            " 8   InternetService   7043 non-null   object \n",
            " 9   OnlineSecurity    7043 non-null   object \n",
            " 10  OnlineBackup      7043 non-null   object \n",
            " 11  DeviceProtection  7043 non-null   object \n",
            " 12  TechSupport       7043 non-null   object \n",
            " 13  StreamingTV       7043 non-null   object \n",
            " 14  StreamingMovies   7043 non-null   object \n",
            " 15  Contract          7043 non-null   object \n",
            " 16  PaperlessBilling  7043 non-null   object \n",
            " 17  PaymentMethod     7043 non-null   object \n",
            " 18  MonthlyCharges    7043 non-null   float64\n",
            " 19  TotalCharges      7043 non-null   object \n",
            " 20  Churn             7043 non-null   object \n",
            "dtypes: float64(1), int64(2), object(18)\n",
            "memory usage: 1.1+ MB\n"
          ]
        }
      ]
    },
    {
      "cell_type": "markdown",
      "metadata": {
        "id": "JInwPDeqtOXH"
      },
      "source": [
        "Notamos que a variável `TotalCharges` deveria ser do tipo `float64`, porém notamos que ela é do tipo possui tipo `object` o que nos indica que há pelo menos um registro com tipo `string`, antes de prosseguirmos com a análise, vamos identificar e tratar esses dados: "
      ]
    },
    {
      "cell_type": "code",
      "metadata": {
        "colab": {
          "base_uri": "https://localhost:8080/"
        },
        "id": "NiLfJYg5t80Y",
        "outputId": "eea056e3-b7b7-43f3-9ad7-101a7ab5e935"
      },
      "source": [
        "# remover registros em que todos os valores são nulos\n",
        "df = df.dropna(how='all')\n",
        "\n",
        "#remover duplicados\n",
        "df = df[~df.duplicated()]\n",
        "\n",
        "# remover registros onde TotalCharges == ' '\n",
        "df = df[~(df['TotalCharges'] == ' ')]\n",
        "\n",
        "# converter TotalCharges para número\n",
        "df.TotalCharges = pd.to_numeric(df.TotalCharges)\n",
        "\n",
        "df.count()"
      ],
      "execution_count": 92,
      "outputs": [
        {
          "output_type": "execute_result",
          "data": {
            "text/plain": [
              "customerID          7032\n",
              "gender              7032\n",
              "SeniorCitizen       7032\n",
              "Partner             7032\n",
              "Dependents          7032\n",
              "tenure              7032\n",
              "PhoneService        7032\n",
              "MultipleLines       7032\n",
              "InternetService     7032\n",
              "OnlineSecurity      7032\n",
              "OnlineBackup        7032\n",
              "DeviceProtection    7032\n",
              "TechSupport         7032\n",
              "StreamingTV         7032\n",
              "StreamingMovies     7032\n",
              "Contract            7032\n",
              "PaperlessBilling    7032\n",
              "PaymentMethod       7032\n",
              "MonthlyCharges      7032\n",
              "TotalCharges        7032\n",
              "Churn               7032\n",
              "dtype: int64"
            ]
          },
          "metadata": {},
          "execution_count": 92
        }
      ]
    },
    {
      "cell_type": "markdown",
      "metadata": {
        "id": "eeZjWy7GwTFa"
      },
      "source": [
        "Haviam 11 registros cuja variável `TotalCharges` estava em branco, isso provavelmente trata-se de erro de digitação, uma vez que é um valor que não faz sentido para o campo \"cobrança total\". Vamos ver como ficaram nossas variáveis após esse tratamento:"
      ]
    },
    {
      "cell_type": "code",
      "metadata": {
        "colab": {
          "base_uri": "https://localhost:8080/",
          "height": 390
        },
        "id": "Au4UGa6VqSZu",
        "outputId": "16782fa0-32d0-4c71-85a9-5178b04e9358"
      },
      "source": [
        "df.describe(include='all')"
      ],
      "execution_count": 93,
      "outputs": [
        {
          "output_type": "execute_result",
          "data": {
            "text/html": [
              "<div>\n",
              "<style scoped>\n",
              "    .dataframe tbody tr th:only-of-type {\n",
              "        vertical-align: middle;\n",
              "    }\n",
              "\n",
              "    .dataframe tbody tr th {\n",
              "        vertical-align: top;\n",
              "    }\n",
              "\n",
              "    .dataframe thead th {\n",
              "        text-align: right;\n",
              "    }\n",
              "</style>\n",
              "<table border=\"1\" class=\"dataframe\">\n",
              "  <thead>\n",
              "    <tr style=\"text-align: right;\">\n",
              "      <th></th>\n",
              "      <th>customerID</th>\n",
              "      <th>gender</th>\n",
              "      <th>SeniorCitizen</th>\n",
              "      <th>Partner</th>\n",
              "      <th>Dependents</th>\n",
              "      <th>tenure</th>\n",
              "      <th>PhoneService</th>\n",
              "      <th>MultipleLines</th>\n",
              "      <th>InternetService</th>\n",
              "      <th>OnlineSecurity</th>\n",
              "      <th>OnlineBackup</th>\n",
              "      <th>DeviceProtection</th>\n",
              "      <th>TechSupport</th>\n",
              "      <th>StreamingTV</th>\n",
              "      <th>StreamingMovies</th>\n",
              "      <th>Contract</th>\n",
              "      <th>PaperlessBilling</th>\n",
              "      <th>PaymentMethod</th>\n",
              "      <th>MonthlyCharges</th>\n",
              "      <th>TotalCharges</th>\n",
              "      <th>Churn</th>\n",
              "    </tr>\n",
              "  </thead>\n",
              "  <tbody>\n",
              "    <tr>\n",
              "      <th>count</th>\n",
              "      <td>7032</td>\n",
              "      <td>7032</td>\n",
              "      <td>7032.000000</td>\n",
              "      <td>7032</td>\n",
              "      <td>7032</td>\n",
              "      <td>7032.000000</td>\n",
              "      <td>7032</td>\n",
              "      <td>7032</td>\n",
              "      <td>7032</td>\n",
              "      <td>7032</td>\n",
              "      <td>7032</td>\n",
              "      <td>7032</td>\n",
              "      <td>7032</td>\n",
              "      <td>7032</td>\n",
              "      <td>7032</td>\n",
              "      <td>7032</td>\n",
              "      <td>7032</td>\n",
              "      <td>7032</td>\n",
              "      <td>7032.000000</td>\n",
              "      <td>7032.000000</td>\n",
              "      <td>7032</td>\n",
              "    </tr>\n",
              "    <tr>\n",
              "      <th>unique</th>\n",
              "      <td>7032</td>\n",
              "      <td>2</td>\n",
              "      <td>NaN</td>\n",
              "      <td>2</td>\n",
              "      <td>2</td>\n",
              "      <td>NaN</td>\n",
              "      <td>2</td>\n",
              "      <td>3</td>\n",
              "      <td>3</td>\n",
              "      <td>3</td>\n",
              "      <td>3</td>\n",
              "      <td>3</td>\n",
              "      <td>3</td>\n",
              "      <td>3</td>\n",
              "      <td>3</td>\n",
              "      <td>3</td>\n",
              "      <td>2</td>\n",
              "      <td>4</td>\n",
              "      <td>NaN</td>\n",
              "      <td>NaN</td>\n",
              "      <td>2</td>\n",
              "    </tr>\n",
              "    <tr>\n",
              "      <th>top</th>\n",
              "      <td>1421-HCERK</td>\n",
              "      <td>Male</td>\n",
              "      <td>NaN</td>\n",
              "      <td>No</td>\n",
              "      <td>No</td>\n",
              "      <td>NaN</td>\n",
              "      <td>Yes</td>\n",
              "      <td>No</td>\n",
              "      <td>Fiber optic</td>\n",
              "      <td>No</td>\n",
              "      <td>No</td>\n",
              "      <td>No</td>\n",
              "      <td>No</td>\n",
              "      <td>No</td>\n",
              "      <td>No</td>\n",
              "      <td>Month-to-month</td>\n",
              "      <td>Yes</td>\n",
              "      <td>Electronic check</td>\n",
              "      <td>NaN</td>\n",
              "      <td>NaN</td>\n",
              "      <td>No</td>\n",
              "    </tr>\n",
              "    <tr>\n",
              "      <th>freq</th>\n",
              "      <td>1</td>\n",
              "      <td>3549</td>\n",
              "      <td>NaN</td>\n",
              "      <td>3639</td>\n",
              "      <td>4933</td>\n",
              "      <td>NaN</td>\n",
              "      <td>6352</td>\n",
              "      <td>3385</td>\n",
              "      <td>3096</td>\n",
              "      <td>3497</td>\n",
              "      <td>3087</td>\n",
              "      <td>3094</td>\n",
              "      <td>3472</td>\n",
              "      <td>2809</td>\n",
              "      <td>2781</td>\n",
              "      <td>3875</td>\n",
              "      <td>4168</td>\n",
              "      <td>2365</td>\n",
              "      <td>NaN</td>\n",
              "      <td>NaN</td>\n",
              "      <td>5163</td>\n",
              "    </tr>\n",
              "    <tr>\n",
              "      <th>mean</th>\n",
              "      <td>NaN</td>\n",
              "      <td>NaN</td>\n",
              "      <td>0.162400</td>\n",
              "      <td>NaN</td>\n",
              "      <td>NaN</td>\n",
              "      <td>32.421786</td>\n",
              "      <td>NaN</td>\n",
              "      <td>NaN</td>\n",
              "      <td>NaN</td>\n",
              "      <td>NaN</td>\n",
              "      <td>NaN</td>\n",
              "      <td>NaN</td>\n",
              "      <td>NaN</td>\n",
              "      <td>NaN</td>\n",
              "      <td>NaN</td>\n",
              "      <td>NaN</td>\n",
              "      <td>NaN</td>\n",
              "      <td>NaN</td>\n",
              "      <td>64.798208</td>\n",
              "      <td>2283.300441</td>\n",
              "      <td>NaN</td>\n",
              "    </tr>\n",
              "    <tr>\n",
              "      <th>std</th>\n",
              "      <td>NaN</td>\n",
              "      <td>NaN</td>\n",
              "      <td>0.368844</td>\n",
              "      <td>NaN</td>\n",
              "      <td>NaN</td>\n",
              "      <td>24.545260</td>\n",
              "      <td>NaN</td>\n",
              "      <td>NaN</td>\n",
              "      <td>NaN</td>\n",
              "      <td>NaN</td>\n",
              "      <td>NaN</td>\n",
              "      <td>NaN</td>\n",
              "      <td>NaN</td>\n",
              "      <td>NaN</td>\n",
              "      <td>NaN</td>\n",
              "      <td>NaN</td>\n",
              "      <td>NaN</td>\n",
              "      <td>NaN</td>\n",
              "      <td>30.085974</td>\n",
              "      <td>2266.771362</td>\n",
              "      <td>NaN</td>\n",
              "    </tr>\n",
              "    <tr>\n",
              "      <th>min</th>\n",
              "      <td>NaN</td>\n",
              "      <td>NaN</td>\n",
              "      <td>0.000000</td>\n",
              "      <td>NaN</td>\n",
              "      <td>NaN</td>\n",
              "      <td>1.000000</td>\n",
              "      <td>NaN</td>\n",
              "      <td>NaN</td>\n",
              "      <td>NaN</td>\n",
              "      <td>NaN</td>\n",
              "      <td>NaN</td>\n",
              "      <td>NaN</td>\n",
              "      <td>NaN</td>\n",
              "      <td>NaN</td>\n",
              "      <td>NaN</td>\n",
              "      <td>NaN</td>\n",
              "      <td>NaN</td>\n",
              "      <td>NaN</td>\n",
              "      <td>18.250000</td>\n",
              "      <td>18.800000</td>\n",
              "      <td>NaN</td>\n",
              "    </tr>\n",
              "    <tr>\n",
              "      <th>25%</th>\n",
              "      <td>NaN</td>\n",
              "      <td>NaN</td>\n",
              "      <td>0.000000</td>\n",
              "      <td>NaN</td>\n",
              "      <td>NaN</td>\n",
              "      <td>9.000000</td>\n",
              "      <td>NaN</td>\n",
              "      <td>NaN</td>\n",
              "      <td>NaN</td>\n",
              "      <td>NaN</td>\n",
              "      <td>NaN</td>\n",
              "      <td>NaN</td>\n",
              "      <td>NaN</td>\n",
              "      <td>NaN</td>\n",
              "      <td>NaN</td>\n",
              "      <td>NaN</td>\n",
              "      <td>NaN</td>\n",
              "      <td>NaN</td>\n",
              "      <td>35.587500</td>\n",
              "      <td>401.450000</td>\n",
              "      <td>NaN</td>\n",
              "    </tr>\n",
              "    <tr>\n",
              "      <th>50%</th>\n",
              "      <td>NaN</td>\n",
              "      <td>NaN</td>\n",
              "      <td>0.000000</td>\n",
              "      <td>NaN</td>\n",
              "      <td>NaN</td>\n",
              "      <td>29.000000</td>\n",
              "      <td>NaN</td>\n",
              "      <td>NaN</td>\n",
              "      <td>NaN</td>\n",
              "      <td>NaN</td>\n",
              "      <td>NaN</td>\n",
              "      <td>NaN</td>\n",
              "      <td>NaN</td>\n",
              "      <td>NaN</td>\n",
              "      <td>NaN</td>\n",
              "      <td>NaN</td>\n",
              "      <td>NaN</td>\n",
              "      <td>NaN</td>\n",
              "      <td>70.350000</td>\n",
              "      <td>1397.475000</td>\n",
              "      <td>NaN</td>\n",
              "    </tr>\n",
              "    <tr>\n",
              "      <th>75%</th>\n",
              "      <td>NaN</td>\n",
              "      <td>NaN</td>\n",
              "      <td>0.000000</td>\n",
              "      <td>NaN</td>\n",
              "      <td>NaN</td>\n",
              "      <td>55.000000</td>\n",
              "      <td>NaN</td>\n",
              "      <td>NaN</td>\n",
              "      <td>NaN</td>\n",
              "      <td>NaN</td>\n",
              "      <td>NaN</td>\n",
              "      <td>NaN</td>\n",
              "      <td>NaN</td>\n",
              "      <td>NaN</td>\n",
              "      <td>NaN</td>\n",
              "      <td>NaN</td>\n",
              "      <td>NaN</td>\n",
              "      <td>NaN</td>\n",
              "      <td>89.862500</td>\n",
              "      <td>3794.737500</td>\n",
              "      <td>NaN</td>\n",
              "    </tr>\n",
              "    <tr>\n",
              "      <th>max</th>\n",
              "      <td>NaN</td>\n",
              "      <td>NaN</td>\n",
              "      <td>1.000000</td>\n",
              "      <td>NaN</td>\n",
              "      <td>NaN</td>\n",
              "      <td>72.000000</td>\n",
              "      <td>NaN</td>\n",
              "      <td>NaN</td>\n",
              "      <td>NaN</td>\n",
              "      <td>NaN</td>\n",
              "      <td>NaN</td>\n",
              "      <td>NaN</td>\n",
              "      <td>NaN</td>\n",
              "      <td>NaN</td>\n",
              "      <td>NaN</td>\n",
              "      <td>NaN</td>\n",
              "      <td>NaN</td>\n",
              "      <td>NaN</td>\n",
              "      <td>118.750000</td>\n",
              "      <td>8684.800000</td>\n",
              "      <td>NaN</td>\n",
              "    </tr>\n",
              "  </tbody>\n",
              "</table>\n",
              "</div>"
            ],
            "text/plain": [
              "        customerID gender  SeniorCitizen  ... MonthlyCharges TotalCharges  Churn\n",
              "count         7032   7032    7032.000000  ...    7032.000000  7032.000000   7032\n",
              "unique        7032      2            NaN  ...            NaN          NaN      2\n",
              "top     1421-HCERK   Male            NaN  ...            NaN          NaN     No\n",
              "freq             1   3549            NaN  ...            NaN          NaN   5163\n",
              "mean           NaN    NaN       0.162400  ...      64.798208  2283.300441    NaN\n",
              "std            NaN    NaN       0.368844  ...      30.085974  2266.771362    NaN\n",
              "min            NaN    NaN       0.000000  ...      18.250000    18.800000    NaN\n",
              "25%            NaN    NaN       0.000000  ...      35.587500   401.450000    NaN\n",
              "50%            NaN    NaN       0.000000  ...      70.350000  1397.475000    NaN\n",
              "75%            NaN    NaN       0.000000  ...      89.862500  3794.737500    NaN\n",
              "max            NaN    NaN       1.000000  ...     118.750000  8684.800000    NaN\n",
              "\n",
              "[11 rows x 21 columns]"
            ]
          },
          "metadata": {},
          "execution_count": 93
        }
      ]
    },
    {
      "cell_type": "markdown",
      "metadata": {
        "id": "KUaGqQt4qKX4"
      },
      "source": [
        "\n",
        "### Dicionário de variáveis\n",
        "\n",
        "Analisando o resumo das variáveis do *dataset* vemos que os nomes das variáveis são bastante descritivos:\n",
        "  * `customerID` - Identificador do usuário\n",
        "  * `gender` - Sexo do usuário\n",
        "  * `SeniorCitizen` - Se o usuário é idoso ou não\n",
        "  * `Partner` - Se o usuário possui parceiro\n",
        "  * `Dependents` - Se o usuário tem dependentes\n",
        "  * `tenure` - Quanto tempo que o usuário utiliza o serviço\n",
        "  * `PhoneService` - Se o usuário possui serviço de telefonia\n",
        "  * `MultipleLines` - Se o usuário possui múltiplas linhas\n",
        "  * `InternetService` - Se o usuário possui serviço de internet\n",
        "  * `OnlineSecurity` - Se o usuário contratou serviço de segurança online\n",
        "  * `OnlineBackup` - Se o usuário contratou serviço de backup online\n",
        "  * `DeviceProtection` - Se o usuário contratou proteção para o dispositivo\n",
        "  * `TechSupport` - Se o usuário tem suporte técnico\n",
        "  * `StreamingTV` - Se o usuário possui streaming de TV\n",
        "  * `StreamingMovies` - Se o usuário possui streaming de filmes\n",
        "  * `Contract` - Tipo do contrato (mensal ou anual)\n",
        "  * `PaperlessBilling` - Se o usuário optou por fatura digital\n",
        "  * `PaymentMethod` - Forma de pagamento\n",
        "  * `MonthlyCharges`- Despesa mensal\n",
        "  * `TotalCharges` - Total de despesa do usuário (desde a contratação do serviço)\n",
        "  * `Churn` - Variável alvo - desistente ou não  \n",
        "\n",
        "\n",
        "Pela descrição das variáveis podemos separá-las em dois grupos - categóricas e numéricas - da seguinte maneira:\n",
        "\n",
        "**Numéricas:**\n",
        "* `tenure`\n",
        "* `MonthlyCharges`\n",
        "* `TotalCharges`\n",
        "\n",
        "**Categóricas:**\n",
        "  * `gender` - Sexo do usuário\n",
        "  * `SeniorCitizen` - Se o usuário é idoso ou não\n",
        "  * `Partner` - Se o usuário possui parceiro\n",
        "  * `Dependents` - Se o usuário tem dependentes\n",
        "  * `PhoneService` - Se o usuário possui serviço de telefonia\n",
        "  * `MultipleLines` - Se o usuário possui múltiplas linhas\n",
        "  * `InternetService` - Se o usuário possui serviço de internet\n",
        "  * `OnlineSecurity` - Se o usuário contratou serviço de segurança online\n",
        "  * `OnlineBackup` - Se o usuário contratou serviço de backup online\n",
        "  * `DeviceProtection` - Se o usuário contratou proteção para o dispositivo\n",
        "  * `TechSupport` - Se o usuário tem suporte técnico\n",
        "  * `StreamingTV` - Se o usuário possui streaming de TV\n",
        "  * `StreamingMovies` - Se o usuário possui streaming de filmes\n",
        "  * `Contract` - Tipo do contrato (mensal ou anual)\n",
        "  * `PaperlessBilling` - Se o usuário optou por fatura digital\n",
        "  * `PaymentMethod` - Forma de pagamento\n",
        "\n",
        "\n",
        "Notamos ainda que as variáveis categóricas possuem, no maximo, 4 valores distintos. A seguir vamos separar nossas variáveis por grupos para podermos analisa-las:\n"
      ]
    },
    {
      "cell_type": "code",
      "metadata": {
        "id": "sp_KxzSprSlS"
      },
      "source": [
        "# criar listas de variáveis segundo seus tipos\n",
        "categorical_features = [\n",
        "  'gender',\n",
        "  'SeniorCitizen',\n",
        "  'Partner',\n",
        "  'Dependents',\n",
        "  'PhoneService',\n",
        "  'MultipleLines',\n",
        "  'InternetService',\n",
        "  'OnlineSecurity',\n",
        "  'OnlineBackup',\n",
        "  'DeviceProtection',\n",
        "  'TechSupport',\n",
        "  'StreamingTV',\n",
        "  'StreamingMovies',\n",
        "  'Contract',\n",
        "  'PaperlessBilling',\n",
        "  'PaymentMethod',\n",
        "]\n",
        "\n",
        "numeric_features = ['tenure', 'MonthlyCharges', 'TotalCharges']\n",
        "target = 'Churn'"
      ],
      "execution_count": 94,
      "outputs": []
    },
    {
      "cell_type": "markdown",
      "metadata": {
        "id": "CzqFW8Rl3TQp"
      },
      "source": [
        "### Analisando as *features* numéricas\n",
        "\n",
        "Vamos analisar as variáveis numéricas de modo a tentar identificar a presença de *outliers* ou ainda estabelecer alguma relação entre variáveis numéricas com nosso alvo."
      ]
    },
    {
      "cell_type": "code",
      "metadata": {
        "colab": {
          "base_uri": "https://localhost:8080/",
          "height": 297
        },
        "id": "TSG5IAXBsXP4",
        "outputId": "9e698178-60e6-41df-bd9f-43f78e19d2cd"
      },
      "source": [
        "df[numeric_features].describe()"
      ],
      "execution_count": 95,
      "outputs": [
        {
          "output_type": "execute_result",
          "data": {
            "text/html": [
              "<div>\n",
              "<style scoped>\n",
              "    .dataframe tbody tr th:only-of-type {\n",
              "        vertical-align: middle;\n",
              "    }\n",
              "\n",
              "    .dataframe tbody tr th {\n",
              "        vertical-align: top;\n",
              "    }\n",
              "\n",
              "    .dataframe thead th {\n",
              "        text-align: right;\n",
              "    }\n",
              "</style>\n",
              "<table border=\"1\" class=\"dataframe\">\n",
              "  <thead>\n",
              "    <tr style=\"text-align: right;\">\n",
              "      <th></th>\n",
              "      <th>tenure</th>\n",
              "      <th>MonthlyCharges</th>\n",
              "      <th>TotalCharges</th>\n",
              "    </tr>\n",
              "  </thead>\n",
              "  <tbody>\n",
              "    <tr>\n",
              "      <th>count</th>\n",
              "      <td>7032.000000</td>\n",
              "      <td>7032.000000</td>\n",
              "      <td>7032.000000</td>\n",
              "    </tr>\n",
              "    <tr>\n",
              "      <th>mean</th>\n",
              "      <td>32.421786</td>\n",
              "      <td>64.798208</td>\n",
              "      <td>2283.300441</td>\n",
              "    </tr>\n",
              "    <tr>\n",
              "      <th>std</th>\n",
              "      <td>24.545260</td>\n",
              "      <td>30.085974</td>\n",
              "      <td>2266.771362</td>\n",
              "    </tr>\n",
              "    <tr>\n",
              "      <th>min</th>\n",
              "      <td>1.000000</td>\n",
              "      <td>18.250000</td>\n",
              "      <td>18.800000</td>\n",
              "    </tr>\n",
              "    <tr>\n",
              "      <th>25%</th>\n",
              "      <td>9.000000</td>\n",
              "      <td>35.587500</td>\n",
              "      <td>401.450000</td>\n",
              "    </tr>\n",
              "    <tr>\n",
              "      <th>50%</th>\n",
              "      <td>29.000000</td>\n",
              "      <td>70.350000</td>\n",
              "      <td>1397.475000</td>\n",
              "    </tr>\n",
              "    <tr>\n",
              "      <th>75%</th>\n",
              "      <td>55.000000</td>\n",
              "      <td>89.862500</td>\n",
              "      <td>3794.737500</td>\n",
              "    </tr>\n",
              "    <tr>\n",
              "      <th>max</th>\n",
              "      <td>72.000000</td>\n",
              "      <td>118.750000</td>\n",
              "      <td>8684.800000</td>\n",
              "    </tr>\n",
              "  </tbody>\n",
              "</table>\n",
              "</div>"
            ],
            "text/plain": [
              "            tenure  MonthlyCharges  TotalCharges\n",
              "count  7032.000000     7032.000000   7032.000000\n",
              "mean     32.421786       64.798208   2283.300441\n",
              "std      24.545260       30.085974   2266.771362\n",
              "min       1.000000       18.250000     18.800000\n",
              "25%       9.000000       35.587500    401.450000\n",
              "50%      29.000000       70.350000   1397.475000\n",
              "75%      55.000000       89.862500   3794.737500\n",
              "max      72.000000      118.750000   8684.800000"
            ]
          },
          "metadata": {},
          "execution_count": 95
        }
      ]
    },
    {
      "cell_type": "markdown",
      "metadata": {
        "id": "W7wu0IMtsFrv"
      },
      "source": [
        "Num primeiro momento, não identificamos *outliers* uma vez que nenhum ponto está desconectado ou muito longe da média, para termos uma visão melhor de como as variáveis estão distribuidas, vamos visualizar os histogramas das mesmas:"
      ]
    },
    {
      "cell_type": "code",
      "metadata": {
        "colab": {
          "base_uri": "https://localhost:8080/",
          "height": 444
        },
        "id": "eYLCJVVwx60Y",
        "outputId": "8b888f74-b9d2-4965-ff9b-a4f94188e127"
      },
      "source": [
        "df[numeric_features].hist(bins=30, figsize=(10, 7), grid=False);"
      ],
      "execution_count": 96,
      "outputs": [
        {
          "output_type": "display_data",
          "data": {
            "image/png": "[encoded data removed]",
            "text/plain": [
              "<Figure size 720x504 with 4 Axes>"
            ]
          },
          "metadata": {
            "needs_background": "light"
          }
        }
      ]
    },
    {
      "cell_type": "markdown",
      "metadata": {
        "id": "mvXEy75fyuZg"
      },
      "source": [
        "Notamos que as variáveis estão bem distribuidas no conjunto, nos mostrando a ausência de *outliers*"
      ]
    },
    {
      "cell_type": "code",
      "metadata": {
        "colab": {
          "base_uri": "https://localhost:8080/",
          "height": 281
        },
        "id": "1Vk_KpWNytpB",
        "outputId": "86020d3e-92fa-4b51-9737-50e507144e3d"
      },
      "source": [
        "fig, ax = plt.subplots(1, 3, figsize=(14, 4))\n",
        "df[df.Churn == \"No\"][numeric_features].hist(bins=30, color=\"blue\", alpha=0.5, ax=ax, grid=False);\n",
        "df[df.Churn == \"Yes\"][numeric_features].hist(bins=30, color=\"red\", alpha=0.5, ax=ax, grid=False);"
      ],
      "execution_count": 97,
      "outputs": [
        {
          "output_type": "display_data",
          "data": {
            "image/png": "[encoded data removed]",
            "text/plain": [
              "<Figure size 1008x288 with 3 Axes>"
            ]
          },
          "metadata": {
            "needs_background": "light"
          }
        }
      ]
    },
    {
      "cell_type": "markdown",
      "metadata": {
        "id": "1FvfTRLs0K7x"
      },
      "source": [
        "Vemos que, quanto maior `tenure` e `TotalCharges` menor é a probabilidade de evasão."
      ]
    },
    {
      "cell_type": "markdown",
      "metadata": {
        "id": "LQ7F1yeD4M0J"
      },
      "source": [
        "### Analisando as *features* categóricas\n",
        "\n",
        "Para as variáveis categóricas vamos visualizar como elas estão distribuidas no dataset, utilizaremos os gráficos de barras para melhor visualização:"
      ]
    },
    {
      "cell_type": "code",
      "metadata": {
        "colab": {
          "base_uri": "https://localhost:8080/",
          "height": 1000
        },
        "id": "gBMUaOq84ZHZ",
        "outputId": "af383e23-ec90-4006-c068-a7d85b8b66d8"
      },
      "source": [
        "ROWS, COLS = 4, 4\n",
        "fig, ax = plt.subplots(nrows=4, ncols=4, figsize=(18, 18))\n",
        "row, col = 0, 0\n",
        "colors = ['C0', 'C1', 'C2', 'C3']\n",
        "for i, feature in enumerate(categorical_features):\n",
        "  if col == COLS - 1:\n",
        "    row += 1\n",
        "  col = i % COLS\n",
        "  df[feature].value_counts().plot.bar(ax=ax[row, col], color=colors).set_title(feature)\n",
        "\n",
        "plt.tight_layout()"
      ],
      "execution_count": 98,
      "outputs": [
        {
          "output_type": "display_data",
          "data": {
            "image/png": "[encoded data removed]",
            "text/plain": [
              "<Figure size 1296x1296 with 16 Axes>"
            ]
          },
          "metadata": {
            "needs_background": "light"
          }
        }
      ]
    },
    {
      "cell_type": "markdown",
      "metadata": {
        "id": "cvT8JJ8t7jTZ"
      },
      "source": [
        "Vemos que idosos e usuários sem serviço de telefone são os menos representados no conjunto de dados."
      ]
    },
    {
      "cell_type": "markdown",
      "metadata": {
        "id": "qWJERKDc7yLo"
      },
      "source": [
        "### Analisando a variável alvo\n",
        "\n",
        "Verificando a distribuição da variável alvo podemos ver quão desbalanceado está nosso *dataset*. O problema de se usar dados desbalanceados para treinar o modelo é que teremos uma acurácia global alta uma vez que estará enviesado pela a classe majoritária.\n",
        "\n",
        "Dados desbalanceados podem ser resolvidos:\n",
        "1. reamostragem - de modo que tenhamos a mesma quantidade para cada alvo\n",
        "2. coletar mais dados\n",
        "3. utilizar outras métricas de desempenho, como `precision` e `recall`"
      ]
    },
    {
      "cell_type": "code",
      "metadata": {
        "colab": {
          "base_uri": "https://localhost:8080/",
          "height": 287
        },
        "id": "F-zwnclm8WsY",
        "outputId": "695510e5-5eff-4983-866f-975f7c87248d"
      },
      "source": [
        "# verificar distribuição da variável Churn\n",
        "df[target].value_counts().plot.bar(color=['C0', 'C1']).set_title('churned');"
      ],
      "execution_count": 99,
      "outputs": [
        {
          "output_type": "display_data",
          "data": {
            "image/png": "[encoded data removed]",
            "text/plain": [
              "<Figure size 432x288 with 1 Axes>"
            ]
          },
          "metadata": {
            "needs_background": "light"
          }
        }
      ]
    },
    {
      "cell_type": "markdown",
      "metadata": {
        "id": "Up1UXO7hKYQw"
      },
      "source": [
        "### Convertendo a variável alvo\n",
        "\n",
        "De modo a padronizarmos os dados para utilizar somente números, vamos converter a variável alvo de modo que a classe `Yes` seja 1 e `No` seja 0."
      ]
    },
    {
      "cell_type": "code",
      "metadata": {
        "colab": {
          "base_uri": "https://localhost:8080/",
          "height": 204
        },
        "id": "-aCC4FZ5KXZo",
        "outputId": "94db7d13-afec-457d-fd99-e536076ba62e"
      },
      "source": [
        "# codificar variável alvo\n",
        "from sklearn.preprocessing import LabelEncoder\n",
        "\n",
        "# treinar LabelEncoder\n",
        "le = LabelEncoder()\n",
        "le.fit(df[target])\n",
        "\n",
        "# transformar variável alvo\n",
        "df[target] = le.transform(df[target])\n",
        "\n",
        "# visualizar primeiras entradas\n",
        "df.head()"
      ],
      "execution_count": 100,
      "outputs": [
        {
          "output_type": "execute_result",
          "data": {
            "text/html": [
              "<div>\n",
              "<style scoped>\n",
              "    .dataframe tbody tr th:only-of-type {\n",
              "        vertical-align: middle;\n",
              "    }\n",
              "\n",
              "    .dataframe tbody tr th {\n",
              "        vertical-align: top;\n",
              "    }\n",
              "\n",
              "    .dataframe thead th {\n",
              "        text-align: right;\n",
              "    }\n",
              "</style>\n",
              "<table border=\"1\" class=\"dataframe\">\n",
              "  <thead>\n",
              "    <tr style=\"text-align: right;\">\n",
              "      <th></th>\n",
              "      <th>customerID</th>\n",
              "      <th>gender</th>\n",
              "      <th>SeniorCitizen</th>\n",
              "      <th>Partner</th>\n",
              "      <th>Dependents</th>\n",
              "      <th>tenure</th>\n",
              "      <th>PhoneService</th>\n",
              "      <th>MultipleLines</th>\n",
              "      <th>InternetService</th>\n",
              "      <th>OnlineSecurity</th>\n",
              "      <th>OnlineBackup</th>\n",
              "      <th>DeviceProtection</th>\n",
              "      <th>TechSupport</th>\n",
              "      <th>StreamingTV</th>\n",
              "      <th>StreamingMovies</th>\n",
              "      <th>Contract</th>\n",
              "      <th>PaperlessBilling</th>\n",
              "      <th>PaymentMethod</th>\n",
              "      <th>MonthlyCharges</th>\n",
              "      <th>TotalCharges</th>\n",
              "      <th>Churn</th>\n",
              "    </tr>\n",
              "  </thead>\n",
              "  <tbody>\n",
              "    <tr>\n",
              "      <th>0</th>\n",
              "      <td>7590-VHVEG</td>\n",
              "      <td>Female</td>\n",
              "      <td>0</td>\n",
              "      <td>Yes</td>\n",
              "      <td>No</td>\n",
              "      <td>1</td>\n",
              "      <td>No</td>\n",
              "      <td>No phone service</td>\n",
              "      <td>DSL</td>\n",
              "      <td>No</td>\n",
              "      <td>Yes</td>\n",
              "      <td>No</td>\n",
              "      <td>No</td>\n",
              "      <td>No</td>\n",
              "      <td>No</td>\n",
              "      <td>Month-to-month</td>\n",
              "      <td>Yes</td>\n",
              "      <td>Electronic check</td>\n",
              "      <td>29.85</td>\n",
              "      <td>29.85</td>\n",
              "      <td>0</td>\n",
              "    </tr>\n",
              "    <tr>\n",
              "      <th>1</th>\n",
              "      <td>5575-GNVDE</td>\n",
              "      <td>Male</td>\n",
              "      <td>0</td>\n",
              "      <td>No</td>\n",
              "      <td>No</td>\n",
              "      <td>34</td>\n",
              "      <td>Yes</td>\n",
              "      <td>No</td>\n",
              "      <td>DSL</td>\n",
              "      <td>Yes</td>\n",
              "      <td>No</td>\n",
              "      <td>Yes</td>\n",
              "      <td>No</td>\n",
              "      <td>No</td>\n",
              "      <td>No</td>\n",
              "      <td>One year</td>\n",
              "      <td>No</td>\n",
              "      <td>Mailed check</td>\n",
              "      <td>56.95</td>\n",
              "      <td>1889.50</td>\n",
              "      <td>0</td>\n",
              "    </tr>\n",
              "    <tr>\n",
              "      <th>2</th>\n",
              "      <td>3668-QPYBK</td>\n",
              "      <td>Male</td>\n",
              "      <td>0</td>\n",
              "      <td>No</td>\n",
              "      <td>No</td>\n",
              "      <td>2</td>\n",
              "      <td>Yes</td>\n",
              "      <td>No</td>\n",
              "      <td>DSL</td>\n",
              "      <td>Yes</td>\n",
              "      <td>Yes</td>\n",
              "      <td>No</td>\n",
              "      <td>No</td>\n",
              "      <td>No</td>\n",
              "      <td>No</td>\n",
              "      <td>Month-to-month</td>\n",
              "      <td>Yes</td>\n",
              "      <td>Mailed check</td>\n",
              "      <td>53.85</td>\n",
              "      <td>108.15</td>\n",
              "      <td>1</td>\n",
              "    </tr>\n",
              "    <tr>\n",
              "      <th>3</th>\n",
              "      <td>7795-CFOCW</td>\n",
              "      <td>Male</td>\n",
              "      <td>0</td>\n",
              "      <td>No</td>\n",
              "      <td>No</td>\n",
              "      <td>45</td>\n",
              "      <td>No</td>\n",
              "      <td>No phone service</td>\n",
              "      <td>DSL</td>\n",
              "      <td>Yes</td>\n",
              "      <td>No</td>\n",
              "      <td>Yes</td>\n",
              "      <td>Yes</td>\n",
              "      <td>No</td>\n",
              "      <td>No</td>\n",
              "      <td>One year</td>\n",
              "      <td>No</td>\n",
              "      <td>Bank transfer (automatic)</td>\n",
              "      <td>42.30</td>\n",
              "      <td>1840.75</td>\n",
              "      <td>0</td>\n",
              "    </tr>\n",
              "    <tr>\n",
              "      <th>4</th>\n",
              "      <td>9237-HQITU</td>\n",
              "      <td>Female</td>\n",
              "      <td>0</td>\n",
              "      <td>No</td>\n",
              "      <td>No</td>\n",
              "      <td>2</td>\n",
              "      <td>Yes</td>\n",
              "      <td>No</td>\n",
              "      <td>Fiber optic</td>\n",
              "      <td>No</td>\n",
              "      <td>No</td>\n",
              "      <td>No</td>\n",
              "      <td>No</td>\n",
              "      <td>No</td>\n",
              "      <td>No</td>\n",
              "      <td>Month-to-month</td>\n",
              "      <td>Yes</td>\n",
              "      <td>Electronic check</td>\n",
              "      <td>70.70</td>\n",
              "      <td>151.65</td>\n",
              "      <td>1</td>\n",
              "    </tr>\n",
              "  </tbody>\n",
              "</table>\n",
              "</div>"
            ],
            "text/plain": [
              "   customerID  gender  SeniorCitizen  ... MonthlyCharges TotalCharges  Churn\n",
              "0  7590-VHVEG  Female              0  ...          29.85        29.85      0\n",
              "1  5575-GNVDE    Male              0  ...          56.95      1889.50      0\n",
              "2  3668-QPYBK    Male              0  ...          53.85       108.15      1\n",
              "3  7795-CFOCW    Male              0  ...          42.30      1840.75      0\n",
              "4  9237-HQITU  Female              0  ...          70.70       151.65      1\n",
              "\n",
              "[5 rows x 21 columns]"
            ]
          },
          "metadata": {},
          "execution_count": 100
        }
      ]
    },
    {
      "cell_type": "markdown",
      "metadata": {
        "id": "VO_xzwSZlOlX"
      },
      "source": [
        "## Divisão dos dados\n",
        "\n",
        "Antes de construir o modelo, iremos dividir os dados em dois grupos: treino e teste, utilizaremos a proporção 70% para treino e 30% para teste, também utilizaremos o método `shuffle` para que haja um embaralhamento dos dados e iremos manter a proporção entre as classes para a variável alvo."
      ]
    },
    {
      "cell_type": "code",
      "metadata": {
        "colab": {
          "base_uri": "https://localhost:8080/"
        },
        "id": "BljUXgJ3l9EH",
        "outputId": "98a0e0f0-481c-49bd-80e1-98fb357319ea"
      },
      "source": [
        "# importar os pacotes necessarios\n",
        "from sklearn.model_selection import train_test_split\n",
        "\n",
        "# separar variáveis e alvos\n",
        "X = df.drop('Churn', axis=1)\n",
        "y = df['Churn']\n",
        "\n",
        "X.drop('customerID', axis=1, inplace=True)\n",
        "\n",
        "# separar os conjuntos em treino e teste\n",
        "X_train, X_test, y_train, y_test = train_test_split(X, y, test_size=0.3, random_state=0, shuffle=True, stratify=y)\n",
        "\n",
        "\n",
        "print(f'Tamanho do conjunto de treino: {X_train.shape[0]}')\n",
        "print(f'Tamanho do conjunto de teste: {X_test.shape[0]}')"
      ],
      "execution_count": 101,
      "outputs": [
        {
          "output_type": "stream",
          "name": "stdout",
          "text": [
            "Tamanho do conjunto de treino: 4922\n",
            "Tamanho do conjunto de teste: 2110\n"
          ]
        }
      ]
    },
    {
      "cell_type": "markdown",
      "metadata": {
        "id": "af1xnSLPngqP"
      },
      "source": [
        "## Tratamento dos dados\n",
        "\n",
        "Com os dados devidamente separados, vamos começar realizando os tratamentos necessários em nosso conjunto de treino seguindo a sequência:\n",
        "1. Converter variáveis categóricas\n",
        "2. Padronizar as variáveis numéricas\n",
        "\n",
        "Como a maioria das variáveis possui duas ou mais categorias sem qualquer relação de ordem entre elas, utilizaremos, para esse *dataset* o *OneHotEncoding* para codificar as variáveis categóricas. Nessa estratégia, para categoria possível de uma variável será criada uma nova coluna e atribuido a ela valor 0 ou 1.\n"
      ]
    },
    {
      "cell_type": "code",
      "metadata": {
        "id": "7zycZIQXqYLY"
      },
      "source": [
        "# importar pacotes necessários\n",
        "from sklearn.preprocessing import OneHotEncoder, StandardScaler\n",
        "from sklearn.pipeline import Pipeline, FeatureUnion\n",
        "from sklearn.compose import ColumnTransformer\n",
        "\n",
        "# criar pipeline para transformar as variáveis categóricas\n",
        "categorical_transformer = Pipeline([\n",
        "    ('selector', ColumnTransformer([\n",
        "      ('selector', 'passthrough', categorical_features)\n",
        "    ], remainder='drop')),\n",
        "    ('onehot', OneHotEncoder())\n",
        "]) \n",
        "\n",
        "# pipeline para transformar as variáveis numéricas\n",
        "numeric_transformer = Pipeline([\n",
        "    ('selector', ColumnTransformer([\n",
        "      ('selector', 'passthrough', numeric_features)\n",
        "    ], remainder='drop')),\n",
        "    ('scalar', StandardScaler())\n",
        "]) \n",
        "\n",
        "\n",
        "# montar dataset que será passado para o modelo\n",
        "features_transformer = FeatureUnion(transformer_list=[\n",
        "    ('categorical_features', categorical_transformer)\n",
        "] + [\n",
        "     ('numeric_features', numeric_transformer)\n",
        "])"
      ],
      "execution_count": 102,
      "outputs": []
    },
    {
      "cell_type": "markdown",
      "metadata": {
        "id": "TKyZmThbOJK7"
      },
      "source": [
        "### Balancear dados\n",
        "\n",
        "Antes de balancear os dados, faremos uma nova divisão do nosso conjunto de dados de treino que servirão como dados de validação.\n",
        "\n",
        "Como vimos no início da análise, nossos dados estão desbalanceados, portanto precisamos balanceá-los antes de realizar o treino (`fit`) do modelo. Utilizaremos a técnica de *Under-sampling* que remove amostras da classe majoritária."
      ]
    },
    {
      "cell_type": "code",
      "metadata": {
        "colab": {
          "base_uri": "https://localhost:8080/",
          "height": 238
        },
        "id": "sznlH6m8Opn6",
        "outputId": "15c2d63d-1dc6-47e3-ce39-e8e7e112f078"
      },
      "source": [
        "# importar pacotes\n",
        "from imblearn.under_sampling import RandomUnderSampler\n",
        "\n",
        "# dividir entre treino e validação\n",
        "X_train, X_val, y_train, y_val = train_test_split(X_train, y_train)\n",
        "\n",
        "# fazer resampling\n",
        "rus = RandomUnderSampler(random_state=0)\n",
        "X_train_balanced, y_train_balanced = rus.fit_sample(X_train, y_train)\n",
        "\n",
        "# converter para dataframe\n",
        "columns = categorical_features + numeric_features\n",
        "X_train_balanced = pd.DataFrame(X_train_balanced, columns=X_train.columns)\n",
        "y_train_balanced = pd.Series(y_train_balanced)\n",
        "\n",
        "# visualizar primeiras linhas\n",
        "X_train_balanced.head()"
      ],
      "execution_count": 104,
      "outputs": [
        {
          "output_type": "stream",
          "name": "stderr",
          "text": [
            "/usr/local/lib/python3.7/dist-packages/sklearn/utils/deprecation.py:87: FutureWarning: Function safe_indexing is deprecated; safe_indexing is deprecated in version 0.22 and will be removed in version 0.24.\n",
            "  warnings.warn(msg, category=FutureWarning)\n"
          ]
        },
        {
          "output_type": "execute_result",
          "data": {
            "text/html": [
              "<div>\n",
              "<style scoped>\n",
              "    .dataframe tbody tr th:only-of-type {\n",
              "        vertical-align: middle;\n",
              "    }\n",
              "\n",
              "    .dataframe tbody tr th {\n",
              "        vertical-align: top;\n",
              "    }\n",
              "\n",
              "    .dataframe thead th {\n",
              "        text-align: right;\n",
              "    }\n",
              "</style>\n",
              "<table border=\"1\" class=\"dataframe\">\n",
              "  <thead>\n",
              "    <tr style=\"text-align: right;\">\n",
              "      <th></th>\n",
              "      <th>gender</th>\n",
              "      <th>SeniorCitizen</th>\n",
              "      <th>Partner</th>\n",
              "      <th>Dependents</th>\n",
              "      <th>tenure</th>\n",
              "      <th>PhoneService</th>\n",
              "      <th>MultipleLines</th>\n",
              "      <th>InternetService</th>\n",
              "      <th>OnlineSecurity</th>\n",
              "      <th>OnlineBackup</th>\n",
              "      <th>DeviceProtection</th>\n",
              "      <th>TechSupport</th>\n",
              "      <th>StreamingTV</th>\n",
              "      <th>StreamingMovies</th>\n",
              "      <th>Contract</th>\n",
              "      <th>PaperlessBilling</th>\n",
              "      <th>PaymentMethod</th>\n",
              "      <th>MonthlyCharges</th>\n",
              "      <th>TotalCharges</th>\n",
              "    </tr>\n",
              "  </thead>\n",
              "  <tbody>\n",
              "    <tr>\n",
              "      <th>0</th>\n",
              "      <td>Male</td>\n",
              "      <td>0</td>\n",
              "      <td>No</td>\n",
              "      <td>Yes</td>\n",
              "      <td>19</td>\n",
              "      <td>No</td>\n",
              "      <td>No phone service</td>\n",
              "      <td>DSL</td>\n",
              "      <td>No</td>\n",
              "      <td>No</td>\n",
              "      <td>No</td>\n",
              "      <td>No</td>\n",
              "      <td>No</td>\n",
              "      <td>No</td>\n",
              "      <td>Month-to-month</td>\n",
              "      <td>Yes</td>\n",
              "      <td>Credit card (automatic)</td>\n",
              "      <td>25.35</td>\n",
              "      <td>566.1</td>\n",
              "    </tr>\n",
              "    <tr>\n",
              "      <th>1</th>\n",
              "      <td>Female</td>\n",
              "      <td>0</td>\n",
              "      <td>No</td>\n",
              "      <td>No</td>\n",
              "      <td>25</td>\n",
              "      <td>Yes</td>\n",
              "      <td>No</td>\n",
              "      <td>No</td>\n",
              "      <td>No internet service</td>\n",
              "      <td>No internet service</td>\n",
              "      <td>No internet service</td>\n",
              "      <td>No internet service</td>\n",
              "      <td>No internet service</td>\n",
              "      <td>No internet service</td>\n",
              "      <td>Month-to-month</td>\n",
              "      <td>No</td>\n",
              "      <td>Mailed check</td>\n",
              "      <td>19.05</td>\n",
              "      <td>461.3</td>\n",
              "    </tr>\n",
              "    <tr>\n",
              "      <th>2</th>\n",
              "      <td>Male</td>\n",
              "      <td>1</td>\n",
              "      <td>Yes</td>\n",
              "      <td>No</td>\n",
              "      <td>34</td>\n",
              "      <td>Yes</td>\n",
              "      <td>No</td>\n",
              "      <td>Fiber optic</td>\n",
              "      <td>No</td>\n",
              "      <td>No</td>\n",
              "      <td>Yes</td>\n",
              "      <td>No</td>\n",
              "      <td>Yes</td>\n",
              "      <td>No</td>\n",
              "      <td>Month-to-month</td>\n",
              "      <td>Yes</td>\n",
              "      <td>Credit card (automatic)</td>\n",
              "      <td>85.2</td>\n",
              "      <td>2874.45</td>\n",
              "    </tr>\n",
              "    <tr>\n",
              "      <th>3</th>\n",
              "      <td>Male</td>\n",
              "      <td>1</td>\n",
              "      <td>No</td>\n",
              "      <td>No</td>\n",
              "      <td>7</td>\n",
              "      <td>No</td>\n",
              "      <td>No phone service</td>\n",
              "      <td>DSL</td>\n",
              "      <td>No</td>\n",
              "      <td>Yes</td>\n",
              "      <td>No</td>\n",
              "      <td>Yes</td>\n",
              "      <td>No</td>\n",
              "      <td>Yes</td>\n",
              "      <td>Month-to-month</td>\n",
              "      <td>Yes</td>\n",
              "      <td>Electronic check</td>\n",
              "      <td>44.4</td>\n",
              "      <td>265.8</td>\n",
              "    </tr>\n",
              "    <tr>\n",
              "      <th>4</th>\n",
              "      <td>Male</td>\n",
              "      <td>0</td>\n",
              "      <td>No</td>\n",
              "      <td>No</td>\n",
              "      <td>51</td>\n",
              "      <td>Yes</td>\n",
              "      <td>No</td>\n",
              "      <td>No</td>\n",
              "      <td>No internet service</td>\n",
              "      <td>No internet service</td>\n",
              "      <td>No internet service</td>\n",
              "      <td>No internet service</td>\n",
              "      <td>No internet service</td>\n",
              "      <td>No internet service</td>\n",
              "      <td>One year</td>\n",
              "      <td>No</td>\n",
              "      <td>Electronic check</td>\n",
              "      <td>19.1</td>\n",
              "      <td>1007.8</td>\n",
              "    </tr>\n",
              "  </tbody>\n",
              "</table>\n",
              "</div>"
            ],
            "text/plain": [
              "   gender SeniorCitizen  ... MonthlyCharges TotalCharges\n",
              "0    Male             0  ...          25.35        566.1\n",
              "1  Female             0  ...          19.05        461.3\n",
              "2    Male             1  ...           85.2      2874.45\n",
              "3    Male             1  ...           44.4        265.8\n",
              "4    Male             0  ...           19.1       1007.8\n",
              "\n",
              "[5 rows x 19 columns]"
            ]
          },
          "metadata": {},
          "execution_count": 104
        }
      ]
    },
    {
      "cell_type": "markdown",
      "metadata": {
        "id": "affHd4YqzfQj"
      },
      "source": [
        "## Escolha do modelo\n",
        "\n",
        "Neste [estudo](https://link.springer.com/article/10.1186/s40537-019-0191-6) foram comparados 4 algoritmos de *Machine Learning* para prever a taxa de rotativade de clientes: Árvores de Decisão, Random Forest, Gradient Boosted Machine Tree “GBM” and XGBoost, como resultado, o algoritmo que apresentou melhor desempenho foi o XGBoost. Portanto, nessa análise utilizaremos esse algoritmo para treinar nosso modelo."
      ]
    },
    {
      "cell_type": "code",
      "metadata": {
        "id": "dz1LjfFa3ikD"
      },
      "source": [
        "# 1. importar pacotes necessários\n",
        "from xgboost import XGBClassifier\n",
        "\n",
        "# 2. Instanciar e escolher os hyperparameters\n",
        "model = XGBClassifier(\n",
        "    gamma=1,\n",
        "    random_state=42,\n",
        "    objective='binary:logistic'\n",
        ")"
      ],
      "execution_count": 144,
      "outputs": []
    },
    {
      "cell_type": "markdown",
      "metadata": {
        "id": "q6sa3dSW3bu1"
      },
      "source": [
        "### Juntando tudo\n",
        "\n",
        "Com as etapas de transformação definidas e o modelo escolhido, vamos colocar todos para funcionar juntos num pipeline. Dessa maneira conseguimos repetir os mesmos passos tanto com o *dataset* de treino quanto de teste"
      ]
    },
    {
      "cell_type": "code",
      "metadata": {
        "id": "u_VqtfRr9_ee"
      },
      "source": [
        "pipeline = Pipeline([\n",
        "  ('feature_transformer', features_transformer),\n",
        "  ('classifier', model)\n",
        "])\n",
        "\n",
        "pipeline.fit(X_train_balanced, y_train_balanced)\n",
        "y_pred = pipeline.predict(X_val)\n",
        "y_proba = pipeline.predict_proba(X_val)"
      ],
      "execution_count": 145,
      "outputs": []
    },
    {
      "cell_type": "markdown",
      "metadata": {
        "id": "91IefXjvLvQP"
      },
      "source": [
        "## Avaliando o Modelo\n",
        "\n",
        "Com nossas previsões realizadas, chegou a hora de avaliar o desempenho do nosso modelo, para isso vamos utilizar as métrica AUC ROC, `precision` e `recall`\n",
        "\n",
        "\n"
      ]
    },
    {
      "cell_type": "code",
      "metadata": {
        "colab": {
          "base_uri": "https://localhost:8080/"
        },
        "id": "MS3EwLnDMQZh",
        "outputId": "6468b9d5-724d-4df7-a8c5-e6afa05c645b"
      },
      "source": [
        "# importar pacotes\n",
        "from sklearn.metrics import classification_report, roc_auc_score, confusion_matrix\n",
        "\n",
        "print(f'Relatório de classificação:\\n{classification_report(y_val, y_pred, digits=4)}')\n",
        "\n",
        "# avaliando AUC do modelo\n",
        "print(\"AUC ROC: {:.4f}\\n\".format(roc_auc_score(y_val, y_pred)))"
      ],
      "execution_count": 146,
      "outputs": [
        {
          "output_type": "stream",
          "name": "stdout",
          "text": [
            "Relatório de classificação:\n",
            "              precision    recall  f1-score   support\n",
            "\n",
            "           0     0.8910    0.7445    0.8112       681\n",
            "           1     0.5085    0.7438    0.6040       242\n",
            "\n",
            "    accuracy                         0.7443       923\n",
            "   macro avg     0.6998    0.7441    0.7076       923\n",
            "weighted avg     0.7907    0.7443    0.7569       923\n",
            "\n",
            "AUC ROC: 0.7441\n",
            "\n"
          ]
        }
      ]
    },
    {
      "cell_type": "markdown",
      "metadata": {
        "id": "CgKC0s4rVEFx"
      },
      "source": [
        "Utilizando a configuração padrão do XGBoost conseguimos obter um desempenho satisfatório para esse *dataset* - 78,25% das previsões realizadas corretamente."
      ]
    },
    {
      "cell_type": "code",
      "metadata": {
        "colab": {
          "base_uri": "https://localhost:8080/",
          "height": 296
        },
        "id": "VWEhD8rMVmvd",
        "outputId": "8c376073-0199-4ab5-e448-0fa42e546469"
      },
      "source": [
        "# importar pacotes\n",
        "import seaborn as sns\n",
        "\n",
        "fig, ax = plt.subplots()\n",
        "\n",
        "sns.heatmap(confusion_matrix(y_val, y_pred, normalize='true'), cmap='Blues', annot=True, ax=ax)\n",
        "\n",
        "ax.set_ylabel(\"Real\")\n",
        "ax.set_xlabel(\"Previsto\")\n",
        "\n",
        "plt.tight_layout()"
      ],
      "execution_count": 147,
      "outputs": [
        {
          "output_type": "display_data",
          "data": {
            "image/png": "[encoded data removed]",
            "text/plain": [
              "<Figure size 432x288 with 2 Axes>"
            ]
          },
          "metadata": {
            "needs_background": "light"
          }
        }
      ]
    },
    {
      "cell_type": "markdown",
      "metadata": {
        "id": "KCqfdPVNWQfS"
      },
      "source": [
        "A matriz de confusão nos mostra dados interessantes sobre nosso modelo (valores sofrer uma leve variação a cada execução uma vez que os dados de treino são selecionados aleatoriamente):\n",
        "1. 74% das previsões de cancelamento (`churn` = 1 ou *Yes*) foram realizadas corretamente;\n",
        "2. 74% das previsões de não-cancelamento (`churn` = 0 ou *No*) foram realizadas corretamente;\n",
        "3. 26% das previsões foram falsos negativos\n",
        "4. 26% das previsões foram falsos positivos.\n",
        "\n",
        "Nesse [artigo](https://towardsdatascience.com/churn-prediction-770d6cb582a5), que utiliza um *dataset* semelhante (se não o mesmo) ao nosso, o autor utilizou um modelo baseado em árvore de decisão que apresentou os seguintes resultados para usuários que desistiram do serviço (`churn` = 1): 67% de *precision* e um *recall* de 37%. Em se tratando de *recall* nosso modelo teve desempenho superior ao modelo de Árvore de Decisão."
      ]
    },
    {
      "cell_type": "markdown",
      "metadata": {
        "id": "jtuPJFg_a0g9"
      },
      "source": [
        "### Validando Modelo com dados \"reais\"\n",
        "\n",
        "Para finalizar a análise vamos realizar uma nova previsão, dessa vez passando os dados de teste (os quais o modelo não teve nenhum contato prévio) e verificar se nosso modelo é genérico o suficiente."
      ]
    },
    {
      "cell_type": "code",
      "metadata": {
        "id": "jaKXwxYPbD5u"
      },
      "source": [
        "# realizar previsões nos dados de teste\n",
        "y_pred_test = pipeline.predict(X_test)\n",
        "y_proba_test = pipeline.predict_proba(X_test)"
      ],
      "execution_count": 148,
      "outputs": []
    },
    {
      "cell_type": "code",
      "metadata": {
        "colab": {
          "base_uri": "https://localhost:8080/"
        },
        "id": "jYlh07KDbRPj",
        "outputId": "5972c4db-6192-4a8d-db07-33e152fe00ed"
      },
      "source": [
        "# Avaliar desempenho para dados de teste\n",
        "print(f'Relatório de classificação:\\n{classification_report(y_test, y_pred_test, digits=4)}')\n",
        "\n",
        "# avaliando AUC do modelo\n",
        "print(\"AUC ROC: {:.4f}\\n\".format(roc_auc_score(y_test, y_pred_test)))"
      ],
      "execution_count": 149,
      "outputs": [
        {
          "output_type": "stream",
          "name": "stdout",
          "text": [
            "Relatório de classificação:\n",
            "              precision    recall  f1-score   support\n",
            "\n",
            "           0     0.8990    0.7469    0.8159      1549\n",
            "           1     0.5237    0.7683    0.6228       561\n",
            "\n",
            "    accuracy                         0.7526      2110\n",
            "   macro avg     0.7113    0.7576    0.7194      2110\n",
            "weighted avg     0.7992    0.7526    0.7646      2110\n",
            "\n",
            "AUC ROC: 0.7576\n",
            "\n"
          ]
        }
      ]
    },
    {
      "cell_type": "code",
      "metadata": {
        "colab": {
          "base_uri": "https://localhost:8080/",
          "height": 296
        },
        "id": "-ngl3tzBbZGd",
        "outputId": "08d3ab33-0e01-4bba-92af-ef3a0c054cbb"
      },
      "source": [
        "# plotar matriz de confusão para os dados de teste\n",
        "fig, ax = plt.subplots()\n",
        "\n",
        "sns.heatmap(confusion_matrix(y_test, y_pred_test, normalize='true'), cmap='Blues', annot=True, ax=ax)\n",
        "\n",
        "ax.set_ylabel(\"Real\")\n",
        "ax.set_xlabel(\"Previsto\")\n",
        "\n",
        "plt.tight_layout()"
      ],
      "execution_count": 150,
      "outputs": [
        {
          "output_type": "display_data",
          "data": {
            "image/png": "[encoded data removed]",
            "text/plain": [
              "<Figure size 432x288 with 2 Axes>"
            ]
          },
          "metadata": {
            "needs_background": "light"
          }
        }
      ]
    },
    {
      "cell_type": "markdown",
      "metadata": {
        "id": "eSdzZ-7zbndr"
      },
      "source": [
        "Os resultados para os dados de teste ficaram próximo dos resultados utilizando o *dataset* de validação, portanto, podemos dizer que nosso modelo está genérico suficiente para realizar previsões em dados desconhecidos."
      ]
    },
    {
      "cell_type": "markdown",
      "metadata": {
        "id": "bg_nNYfeaw8O"
      },
      "source": [
        "### Melhorando o Modelo\n",
        "\n",
        "Com uma primeira versão do nosso modelo treinada, vamos ajustar seus parâmetros com o objetivo de melhorar seu desempenho. Podemos chamar essa etapa de *fine tunning*."
      ]
    },
    {
      "cell_type": "markdown",
      "metadata": {
        "id": "2Dt2PGCzCoBJ"
      },
      "source": [
        "### Identificando os melhores parâmetros\n",
        "\n",
        "Utilizaremos o GridSearch para identificar os melhores parâmetros do nosso modelo. Não iremos incluir todas as variáveis para verificar qual a melhor combinação de parâmetros pois isso elevaria a complexidade computacional e, consequentemente, o GridSearch levaria muito tempo para executar.\n",
        "\n",
        "Nossa escolha foi baseada na definição dos parâmetros deste [guia](https://www.analyticsvidhya.com/blog/2016/03/complete-guide-parameter-tuning-xgboost-with-codes-python/)"
      ]
    },
    {
      "cell_type": "code",
      "metadata": {
        "colab": {
          "base_uri": "https://localhost:8080/"
        },
        "id": "MwUpxTuWC3MK",
        "outputId": "059e4f1e-f751-4b8b-936e-dba7243c0608"
      },
      "source": [
        "# importar pacotes\n",
        "from sklearn.model_selection import GridSearchCV\n",
        "\n",
        "# definir parâmetros que serão avaliados\n",
        "parameters = {\n",
        "    'learning_rate': [0.01, 0.05, 0.1],\n",
        "    'n_estimators': [100, 500],\n",
        "    'max_depth': [4, 5, 6],\n",
        "    'eta': [0.01, 0.05, 0.1],\n",
        "    'subsample': [0.9],\n",
        "    'colsample_bytree': [0.2]\n",
        "}\n",
        "\n",
        "clf = GridSearchCV(model, parameters)\n",
        "X_train_transformed = features_transformer.fit_transform(X_train_balanced)\n",
        "clf.fit(X_train_transformed, y_train_balanced)\n",
        "print(\"Melhor: {} usando {}\".format(clf.best_score_, clf.best_params_))"
      ],
      "execution_count": 151,
      "outputs": [
        {
          "output_type": "stream",
          "name": "stdout",
          "text": [
            "Melhor: 0.7669377004122767 usando {'colsample_bytree': 0.2, 'eta': 0.01, 'learning_rate': 0.01, 'max_depth': 4, 'n_estimators': 100, 'subsample': 0.9}\n"
          ]
        }
      ]
    },
    {
      "cell_type": "markdown",
      "metadata": {
        "id": "Z3CB0UZqJD2f"
      },
      "source": [
        "Agora que encontramos os melhores parâmetros para nosso modelo, vamos verificar seu desempenho com nosso *dataset* de validação."
      ]
    },
    {
      "cell_type": "code",
      "metadata": {
        "id": "B_9mUHnwAqjL"
      },
      "source": [
        "# novo modelo com tunning\n",
        "model_tuned = XGBClassifier(\n",
        "  learning_rate=0.01,\n",
        "  n_estimators=100,\n",
        "  max_depth=4,\n",
        "  gamma=1,\n",
        "  subsample=0.9,\n",
        "  colsample_bytree=0.2,\n",
        "  objective='binary:logistic',\n",
        "  eta=0.01,\n",
        "  random_state=42,\n",
        ")\n",
        "\n",
        "# replace pipeline model\n",
        "pipeline.steps[1] = ('classifier', model_tuned)\n",
        "\n",
        "# treinar modelo\n",
        "pipeline.fit(X_train_balanced, y_train_balanced)\n",
        "\n",
        "# realizar previsões\n",
        "y_pred = pipeline.predict(X_val)\n",
        "y_proba = pipeline.predict_proba(X_val)"
      ],
      "execution_count": 152,
      "outputs": []
    },
    {
      "cell_type": "code",
      "metadata": {
        "colab": {
          "base_uri": "https://localhost:8080/"
        },
        "id": "n9GxVQdFBFWg",
        "outputId": "07f8a541-2742-4bf6-84e8-def46362e31a"
      },
      "source": [
        "print(f'Relatório de classificação:\\n{classification_report(y_val, y_pred, digits=4)}')\n",
        "\n",
        "# avaliando AUC do modelo\n",
        "print(\"AUC ROC: {:.4f}\\n\".format(roc_auc_score(y_val, y_pred)))"
      ],
      "execution_count": 153,
      "outputs": [
        {
          "output_type": "stream",
          "name": "stdout",
          "text": [
            "Relatório de classificação:\n",
            "              precision    recall  f1-score   support\n",
            "\n",
            "           0     0.8976    0.7210    0.7997       681\n",
            "           1     0.4947    0.7686    0.6019       242\n",
            "\n",
            "    accuracy                         0.7335       923\n",
            "   macro avg     0.6962    0.7448    0.7008       923\n",
            "weighted avg     0.7920    0.7335    0.7478       923\n",
            "\n",
            "AUC ROC: 0.7448\n",
            "\n"
          ]
        }
      ]
    },
    {
      "cell_type": "markdown",
      "metadata": {
        "id": "RmZgsYWHNOj_"
      },
      "source": [
        "Verificando o desempenho do modelo tunado utilizando o *dataset* de testes."
      ]
    },
    {
      "cell_type": "code",
      "metadata": {
        "id": "91QJFaOXNOAH"
      },
      "source": [
        "# realizar previsões\n",
        "y_pred_test = pipeline.predict(X_test)\n",
        "y_proba_test = pipeline.predict_proba(X_test)"
      ],
      "execution_count": 154,
      "outputs": []
    },
    {
      "cell_type": "code",
      "metadata": {
        "colab": {
          "base_uri": "https://localhost:8080/"
        },
        "id": "2hEX5rxeNmVv",
        "outputId": "084d41b0-91c6-4fcb-bb9d-32c54c1241cd"
      },
      "source": [
        "# Avaliar desempenho para dados de teste\n",
        "print(f'Relatório de classificação:\\n{classification_report(y_test, y_pred_test, digits=4)}')\n",
        "\n",
        "# avaliando AUC do modelo\n",
        "print(\"AUC ROC: {:.4f}\\n\".format(roc_auc_score(y_test, y_pred_test)))"
      ],
      "execution_count": 155,
      "outputs": [
        {
          "output_type": "stream",
          "name": "stdout",
          "text": [
            "Relatório de classificação:\n",
            "              precision    recall  f1-score   support\n",
            "\n",
            "           0     0.9080    0.7263    0.8070      1549\n",
            "           1     0.5132    0.7968    0.6243       561\n",
            "\n",
            "    accuracy                         0.7450      2110\n",
            "   macro avg     0.7106    0.7615    0.7157      2110\n",
            "weighted avg     0.8030    0.7450    0.7584      2110\n",
            "\n",
            "AUC ROC: 0.7615\n",
            "\n"
          ]
        }
      ]
    },
    {
      "cell_type": "code",
      "metadata": {
        "colab": {
          "base_uri": "https://localhost:8080/",
          "height": 296
        },
        "id": "JBBuQf0ANrAH",
        "outputId": "cf95229f-cfcb-4e96-ca14-21d51af455a1"
      },
      "source": [
        "# plotar matriz de confusão para os dados de teste\n",
        "fig, ax = plt.subplots()\n",
        "\n",
        "sns.heatmap(confusion_matrix(y_test, y_pred_test, normalize='true'), cmap='Blues', annot=True, ax=ax)\n",
        "\n",
        "ax.set_ylabel(\"Real\")\n",
        "ax.set_xlabel(\"Previsto\")\n",
        "\n",
        "plt.tight_layout()"
      ],
      "execution_count": 156,
      "outputs": [
        {
          "output_type": "display_data",
          "data": {
            "image/png": "[encoded data removed]",
            "text/plain": [
              "<Figure size 432x288 with 2 Axes>"
            ]
          },
          "metadata": {
            "needs_background": "light"
          }
        }
      ]
    },
    {
      "cell_type": "markdown",
      "metadata": {
        "id": "VcDrsxC2Nsdm"
      },
      "source": [
        "Assim como o modelo sem *tunning*, conseguimos obter desempenho semelhante para os dados de teste, um indício de que nosso modelo pode ser aplicado em situações reais."
      ]
    },
    {
      "cell_type": "markdown",
      "metadata": {
        "id": "c46ejSS2NJ-v"
      },
      "source": [
        "## Conclusão\n",
        "\n",
        "Após essa análise vimos que é possível melhorar o desempenho dos modelos apenas realizando o *tunning* adequado nos seus parâmetros.\n",
        "\n",
        "No entanto, notamos que a melhora mais significativa foi obtida com o tratamento adequado nos dados e na escolha do modelo.\n",
        "\n",
        "Vale ressaltar ainda que como nosso conjunto de dados contém dados do usuário somente - e não possui dados referentes à experiência do usuário, por exemplo número de reclamações ou solicitações de suporte - não foi possível realizar nenhuma engenharia que nos desse mais informações e possivelmente melhorar ainda mais o desempenho.\n",
        "\n",
        "Por fim, nosso modelo obteve um desempenho satisfatório ao conseguir prever corretamente aproximadamente 80% dos casos de `churn`."
      ]
    },
    {
      "cell_type": "code",
      "metadata": {
        "id": "ThH0bud3XImv"
      },
      "source": [
        ""
      ],
      "execution_count": null,
      "outputs": []
    }
  ]
}